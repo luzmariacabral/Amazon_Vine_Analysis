{
  "nbformat": 4,
  "nbformat_minor": 0,
  "metadata": {
    "colab": {
      "name": "Vine_Review_Analysis.ipynb",
      "provenance": [],
      "collapsed_sections": [],
      "authorship_tag": "ABX9TyNyrN/SGDhCAkuUflHc2j1y",
      "include_colab_link": true
    },
    "kernelspec": {
      "name": "python3",
      "display_name": "Python 3"
    },
    "language_info": {
      "name": "python"
    }
  },
  "cells": [
    {
      "cell_type": "markdown",
      "metadata": {
        "id": "view-in-github",
        "colab_type": "text"
      },
      "source": [
        "<a href=\"https://colab.research.google.com/github/luzmariacabral/Amazon_Vine_Analysis/blob/main/Vine_Review_Analysis.ipynb\" target=\"_parent\"><img src=\"https://colab.research.google.com/assets/colab-badge.svg\" alt=\"Open In Colab\"/></a>"
      ]
    },
    {
      "cell_type": "code",
      "metadata": {
        "colab": {
          "base_uri": "https://localhost:8080/"
        },
        "id": "-5ai44cogoNq",
        "outputId": "39a90b86-a1ca-4a80-dc14-d6a7723faeb9"
      },
      "source": [
        "import os\n",
        "# Find the latest version of spark 2.0  from http://www-us.apache.org/dist/spark/ and enter as the spark version\n",
        "# For example:\n",
        "# spark_version = 'spark-3.0.0'\n",
        "spark_version = 'spark-3.0.3'\n",
        "os.environ['SPARK_VERSION']=spark_version\n",
        "\n",
        "# Install Spark and Java\n",
        "!apt-get update\n",
        "!apt-get install openjdk-11-jdk-headless -qq > /dev/null\n",
        "!wget -q http://www-us.apache.org/dist/spark/$SPARK_VERSION/$SPARK_VERSION-bin-hadoop2.7.tgz\n",
        "!tar xf $SPARK_VERSION-bin-hadoop2.7.tgz\n",
        "!pip install -q findspark\n",
        "\n",
        "# Set Environment Variables\n",
        "import os\n",
        "os.environ[\"JAVA_HOME\"] = \"/usr/lib/jvm/java-11-openjdk-amd64\"\n",
        "os.environ[\"SPARK_HOME\"] = f\"/content/{spark_version}-bin-hadoop2.7\"\n",
        "\n",
        "# Start a SparkSession\n",
        "import findspark\n",
        "findspark.init()"
      ],
      "execution_count": 1,
      "outputs": [
        {
          "output_type": "stream",
          "text": [
            "\r0% [Working]\r            \rGet:1 https://cloud.r-project.org/bin/linux/ubuntu bionic-cran40/ InRelease [3,626 B]\n",
            "\r0% [Connecting to archive.ubuntu.com (91.189.88.142)] [Waiting for headers] [1 \r0% [Connecting to archive.ubuntu.com (91.189.88.142)] [Waiting for headers] [Co\r                                                                               \rIgn:2 https://developer.download.nvidia.com/compute/cuda/repos/ubuntu1804/x86_64  InRelease\n",
            "\r0% [Connecting to archive.ubuntu.com (91.189.88.142)] [Waiting for headers] [Co\r0% [1 InRelease gpgv 3,626 B] [Connecting to archive.ubuntu.com (91.189.88.142)\r                                                                               \rIgn:3 https://developer.download.nvidia.com/compute/machine-learning/repos/ubuntu1804/x86_64  InRelease\n",
            "\r0% [1 InRelease gpgv 3,626 B] [Connecting to archive.ubuntu.com (91.189.88.142)\r                                                                               \rGet:4 https://developer.download.nvidia.com/compute/cuda/repos/ubuntu1804/x86_64  Release [697 B]\n",
            "Hit:5 https://developer.download.nvidia.com/compute/machine-learning/repos/ubuntu1804/x86_64  Release\n",
            "Get:6 https://developer.download.nvidia.com/compute/cuda/repos/ubuntu1804/x86_64  Release.gpg [836 B]\n",
            "Get:7 http://security.ubuntu.com/ubuntu bionic-security InRelease [88.7 kB]\n",
            "Get:8 http://ppa.launchpad.net/c2d4u.team/c2d4u4.0+/ubuntu bionic InRelease [15.9 kB]\n",
            "Hit:9 http://archive.ubuntu.com/ubuntu bionic InRelease\n",
            "Get:10 http://archive.ubuntu.com/ubuntu bionic-updates InRelease [88.7 kB]\n",
            "Hit:12 http://ppa.launchpad.net/cran/libgit2/ubuntu bionic InRelease\n",
            "Ign:13 https://developer.download.nvidia.com/compute/cuda/repos/ubuntu1804/x86_64  Packages\n",
            "Get:13 https://developer.download.nvidia.com/compute/cuda/repos/ubuntu1804/x86_64  Packages [634 kB]\n",
            "Get:14 http://archive.ubuntu.com/ubuntu bionic-backports InRelease [74.6 kB]\n",
            "Get:15 http://ppa.launchpad.net/deadsnakes/ppa/ubuntu bionic InRelease [15.9 kB]\n",
            "Get:16 http://security.ubuntu.com/ubuntu bionic-security/universe amd64 Packages [1,418 kB]\n",
            "Get:17 http://ppa.launchpad.net/graphics-drivers/ppa/ubuntu bionic InRelease [21.3 kB]\n",
            "Get:18 http://security.ubuntu.com/ubuntu bionic-security/restricted amd64 Packages [473 kB]\n",
            "Get:19 http://ppa.launchpad.net/c2d4u.team/c2d4u4.0+/ubuntu bionic/main Sources [1,780 kB]\n",
            "Get:20 http://security.ubuntu.com/ubuntu bionic-security/main amd64 Packages [2,221 kB]\n",
            "Get:21 http://archive.ubuntu.com/ubuntu bionic-updates/main amd64 Packages [2,657 kB]\n",
            "Get:22 http://archive.ubuntu.com/ubuntu bionic-updates/universe amd64 Packages [2,188 kB]\n",
            "Get:23 http://ppa.launchpad.net/c2d4u.team/c2d4u4.0+/ubuntu bionic/main amd64 Packages [910 kB]\n",
            "Get:24 http://archive.ubuntu.com/ubuntu bionic-updates/restricted amd64 Packages [506 kB]\n",
            "Get:25 http://ppa.launchpad.net/deadsnakes/ppa/ubuntu bionic/main amd64 Packages [40.8 kB]\n",
            "Get:26 http://ppa.launchpad.net/graphics-drivers/ppa/ubuntu bionic/main amd64 Packages [41.5 kB]\n",
            "Fetched 13.2 MB in 5s (2,648 kB/s)\n",
            "Reading package lists... Done\n"
          ],
          "name": "stdout"
        }
      ]
    },
    {
      "cell_type": "code",
      "metadata": {
        "colab": {
          "base_uri": "https://localhost:8080/"
        },
        "id": "9VoF20YyhbYC",
        "outputId": "a67f8b9c-fb65-4a15-d4b7-2b9c94c3f3a3"
      },
      "source": [
        "# Download the Postgres driver that will allow Spark to interact with Postgres.\n",
        "!wget https://jdbc.postgresql.org/download/postgresql-42.2.16.jar"
      ],
      "execution_count": 2,
      "outputs": [
        {
          "output_type": "stream",
          "text": [
            "--2021-07-05 23:09:51--  https://jdbc.postgresql.org/download/postgresql-42.2.16.jar\n",
            "Resolving jdbc.postgresql.org (jdbc.postgresql.org)... 72.32.157.228, 2001:4800:3e1:1::228\n",
            "Connecting to jdbc.postgresql.org (jdbc.postgresql.org)|72.32.157.228|:443... connected.\n",
            "HTTP request sent, awaiting response... 200 OK\n",
            "Length: 1002883 (979K) [application/java-archive]\n",
            "Saving to: ‘postgresql-42.2.16.jar’\n",
            "\n",
            "postgresql-42.2.16. 100%[===================>] 979.38K  4.72MB/s    in 0.2s    \n",
            "\n",
            "2021-07-05 23:09:51 (4.72 MB/s) - ‘postgresql-42.2.16.jar’ saved [1002883/1002883]\n",
            "\n"
          ],
          "name": "stdout"
        }
      ]
    },
    {
      "cell_type": "code",
      "metadata": {
        "id": "-o4UXmtwhhrm"
      },
      "source": [
        "from pyspark.sql import SparkSession\n",
        "spark = SparkSession.builder.appName(\"BigData-Challenge\").config(\"spark.driver.extraClassPath\",\"/content/postgresql-42.2.16.jar\").getOrCreate()"
      ],
      "execution_count": 3,
      "outputs": []
    },
    {
      "cell_type": "code",
      "metadata": {
        "colab": {
          "base_uri": "https://localhost:8080/"
        },
        "id": "8JRG7KqdhpHx",
        "outputId": "01170ef5-c6a3-4356-950d-7407ed4d64a2"
      },
      "source": [
        "from pyspark import SparkFiles\n",
        "url = \"https://s3.amazonaws.com/amazon-reviews-pds/tsv/amazon_reviews_us_Digital_Ebook_Purchase_v1_00.tsv.gz\"\n",
        "spark.sparkContext.addFile(url)\n",
        "df = spark.read.option(\"encoding\", \"UTF-8\").csv(SparkFiles.get(\"\"), sep=\"\\t\", header=True, inferSchema=True)\n",
        "df.show()"
      ],
      "execution_count": 4,
      "outputs": [
        {
          "output_type": "stream",
          "text": [
            "+-----------+-----------+--------------+----------+--------------+--------------------+--------------------+-----------+-------------+-----------+----+-----------------+--------------------+--------------------+-----------+\n",
            "|marketplace|customer_id|     review_id|product_id|product_parent|       product_title|    product_category|star_rating|helpful_votes|total_votes|vine|verified_purchase|     review_headline|         review_body|review_date|\n",
            "+-----------+-----------+--------------+----------+--------------+--------------------+--------------------+-----------+-------------+-----------+----+-----------------+--------------------+--------------------+-----------+\n",
            "|         US|   35471030|R1C5OK9AND7PRP|B00AHK07V0|     175130663|Hunter's Moon (A ...|Digital_Ebook_Pur...|          5|            0|          0|   N|                Y|Shugak is like a ...|This is the most ...| 2015-08-31|\n",
            "|         US|   26579324|R333RNBQMPVUFT|B014085WTQ|     859232728|Flying Toward For...|Digital_Ebook_Pur...|          5|            0|          0|   N|                Y|For the young hea...|This story holds ...| 2015-08-31|\n",
            "|         US|    9152364|R2A2K0GTNSKXM1|B0113MFPN0|     411472516|Falling For A Rea...|Digital_Ebook_Pur...|          5|            0|          0|   N|                N|          Five Stars|A true love story...| 2015-08-31|\n",
            "|         US|   52087605|R365LAQ9REV876|B00T8RIK7G|     353828021|   The Good Neighbor|Digital_Ebook_Pur...|          3|            0|          0|   N|                Y|Not really my typ...|A bit contrived a...| 2015-08-31|\n",
            "|         US|   46454660|R294OF3SNH6SWZ|B00EMXBDMA|     803172158|The Martian: A Novel|Digital_Ebook_Pur...|          4|            0|          0|   N|                Y|Coming soon to a ...|Moved well. Seeme...| 2015-08-31|\n",
            "|         US|   33168429|R2OMRH58WYEEP9|B00GL3OJIY|     325772386|The Painter: A novel|Digital_Ebook_Pur...|          5|            0|          0|   N|                N|        I liked it a|Very different an...| 2015-08-31|\n",
            "|         US|   18546798| RBFXYUJZIH5JR|B00RW30QE8|     236508296|        METEOR STORM|Digital_Ebook_Pur...|          5|            0|          0|   N|                Y|The author delive...|Once I started re...| 2015-08-31|\n",
            "|         US|   47463409|R2K2RSBNV42HU4|B0101AE85Q|     924272105|Diary of a Crazy ...|Digital_Ebook_Pur...|          5|            0|          0|   N|                N|This book is amaz...|Super quality, gr...| 2015-08-31|\n",
            "|         US|   11767467|R2CLRFFJ5HJSU3|B00IO7QAI2|     393059633|Unlocking Potenti...|Digital_Ebook_Pur...|          4|            0|          0|   N|                N|          Four Stars|    A useful primer.| 2015-08-31|\n",
            "|         US|   14241457| RS1O7V45AADDO|B00PM995TG|     529331494|The Einstein Prop...|Digital_Ebook_Pur...|          4|            0|          0|   N|                Y|          Four Stars|   enjoyed the story| 2015-08-31|\n",
            "|         US|   52821351| RYD2AF3KUC4OL|B00K4C4GVI|     310020786|Make It Ahead: A ...|Digital_Ebook_Pur...|          5|            2|          2|   N|                Y|Because of her I ...|This isn't the he...| 2015-08-31|\n",
            "|         US|   14416837| RHQTCPUF1CXY2|B00PUSKG8I|     683060701|The Shipwreck of ...|Digital_Ebook_Pur...|          4|            0|          0|   N|                Y|Very interesting ...|This is a very qu...| 2015-08-31|\n",
            "|         US|   17189419|R3371UTDP6I1FU|B00FNCSBCE|     813812785|20 Compelling Evi...|Digital_Ebook_Pur...|          5|            0|          0|   N|                Y|           Excellent|For some reason I...| 2015-08-31|\n",
            "|         US|   44043796|R2RI2S5Q90RG23|B004XFYN9M|     972973628|   What Alice Forgot|Digital_Ebook_Pur...|          5|            0|          0|   N|                Y|           good read|Good character de...| 2015-08-31|\n",
            "|         US|   24135769| RCYE82T9GRT48|B00K0OI42W|     994527755|To Kill a Mocking...|Digital_Ebook_Pur...|          5|            0|          0|   N|                Y|I last read it in...|This was a reread...| 2015-08-31|\n",
            "|         US|   47496659|R12T8WK03VQNC5|B00N2HHPQU|     886553830|The Housewife Ass...|Digital_Ebook_Pur...|          4|            1|          1|   N|                Y|          Four Stars|           enjoyable| 2015-08-31|\n",
            "|         US|   21051459|R3RVME26X4DGJX|B00ZPCLT0S|     296387019|Illusive (Storm M...|Digital_Ebook_Pur...|          5|            0|          0|   N|                N|           Fantastic|Oh how UNFAIR thi...| 2015-08-31|\n",
            "|         US|   45295639|R3BME7NLVCMJHW|B00QSNV82C|     506388384|A Mansion, A Drag...|Digital_Ebook_Pur...|          4|            0|          0|   N|                Y|          Four Stars|Light reading, ve...| 2015-08-31|\n",
            "|         US|   14443051|R1PKMRYLDMVN2P|B00PQL9U4K|      26715694|         Wolf Hunter|Digital_Ebook_Pur...|          3|            0|          0|   N|                Y|                Good|This is a ok book...| 2015-08-31|\n",
            "|         US|   37039571|R1TR7VKTTJV505|B004FGMDOQ|     333044434|Miss Peregrine's ...|Digital_Ebook_Pur...|          5|            0|          0|   N|                N|          Five Stars|Great book! My st...| 2015-08-31|\n",
            "+-----------+-----------+--------------+----------+--------------+--------------------+--------------------+-----------+-------------+-----------+----+-----------------+--------------------+--------------------+-----------+\n",
            "only showing top 20 rows\n",
            "\n"
          ],
          "name": "stdout"
        }
      ]
    },
    {
      "cell_type": "code",
      "metadata": {
        "colab": {
          "base_uri": "https://localhost:8080/"
        },
        "id": "qraUHBfhirXx",
        "outputId": "5926e1d2-96b5-4abc-9a61-2fc081c56bc2"
      },
      "source": [
        "# Create the vine_table. DataFrame\n",
        "vine_df = df.select(['review_id', 'star_rating', 'helpful_votes', 'total_votes', 'vine', 'verified_purchase'])\n",
        "vine_df.show(10)"
      ],
      "execution_count": 5,
      "outputs": [
        {
          "output_type": "stream",
          "text": [
            "+--------------+-----------+-------------+-----------+----+-----------------+\n",
            "|     review_id|star_rating|helpful_votes|total_votes|vine|verified_purchase|\n",
            "+--------------+-----------+-------------+-----------+----+-----------------+\n",
            "|R1C5OK9AND7PRP|          5|            0|          0|   N|                Y|\n",
            "|R333RNBQMPVUFT|          5|            0|          0|   N|                Y|\n",
            "|R2A2K0GTNSKXM1|          5|            0|          0|   N|                N|\n",
            "|R365LAQ9REV876|          3|            0|          0|   N|                Y|\n",
            "|R294OF3SNH6SWZ|          4|            0|          0|   N|                Y|\n",
            "|R2OMRH58WYEEP9|          5|            0|          0|   N|                N|\n",
            "| RBFXYUJZIH5JR|          5|            0|          0|   N|                Y|\n",
            "|R2K2RSBNV42HU4|          5|            0|          0|   N|                N|\n",
            "|R2CLRFFJ5HJSU3|          4|            0|          0|   N|                N|\n",
            "| RS1O7V45AADDO|          4|            0|          0|   N|                Y|\n",
            "+--------------+-----------+-------------+-----------+----+-----------------+\n",
            "only showing top 10 rows\n",
            "\n"
          ],
          "name": "stdout"
        }
      ]
    },
    {
      "cell_type": "code",
      "metadata": {
        "id": "Fx_x5al7ML-q"
      },
      "source": [
        "#Filtering vine_df, total_votes greater than or equal to 20\n",
        "vineVotes_df=vine_df.filter(\"total_votes>=20\")"
      ],
      "execution_count": 6,
      "outputs": []
    },
    {
      "cell_type": "code",
      "metadata": {
        "id": "OJvRZpZ7Pn9b"
      },
      "source": [
        "#Filter totalVotes_vine where all helpful_votes/total_votes are >+50%\n",
        "#highVotes_df=vineVotes_df.withcolumn(\"%_of_votes\", (vineVotes_df[\"helpful_votes\"]/vineVotes_df[\"total_votes\"])*100).show()\n",
        "#test_df=highVotes_df.loc[highVotes_df[\"%_of_votes\"] >= 50]\n",
        "#test_df = vineVotes_df.filter[(vineVotes_df[\"helpful_votes\"]/vineVotes_df[\"total_votes\"] >= 0.5)]\n",
        "highVotes_df = vineVotes_df.filter(vineVotes_df[\"helpful_votes\"]/vineVotes_df[\"total_votes\"] >= 0.5)\n"
      ],
      "execution_count": 7,
      "outputs": []
    },
    {
      "cell_type": "code",
      "metadata": {
        "colab": {
          "base_uri": "https://localhost:8080/"
        },
        "id": "lR7ixxZ-ncyi",
        "outputId": "cc683a2c-09da-4228-bd43-9a55ec2c6e16"
      },
      "source": [
        "paid_vine_df=highVotes_df.filter(highVotes_df[\"vine\"]==\"Y\").show()"
      ],
      "execution_count": 8,
      "outputs": [
        {
          "output_type": "stream",
          "text": [
            "+---------+-----------+-------------+-----------+----+-----------------+\n",
            "|review_id|star_rating|helpful_votes|total_votes|vine|verified_purchase|\n",
            "+---------+-----------+-------------+-----------+----+-----------------+\n",
            "+---------+-----------+-------------+-----------+----+-----------------+\n",
            "\n"
          ],
          "name": "stdout"
        }
      ]
    },
    {
      "cell_type": "code",
      "metadata": {
        "colab": {
          "base_uri": "https://localhost:8080/"
        },
        "id": "tg52BxxXruT2",
        "outputId": "3129284a-5922-4743-c301-2f54bd91c237"
      },
      "source": [
        "non_vine_df = highVotes_df.filter(highVotes_df[\"vine\"] == \"N\").show()"
      ],
      "execution_count": 9,
      "outputs": [
        {
          "output_type": "stream",
          "text": [
            "+--------------+-----------+-------------+-----------+----+-----------------+\n",
            "|     review_id|star_rating|helpful_votes|total_votes|vine|verified_purchase|\n",
            "+--------------+-----------+-------------+-----------+----+-----------------+\n",
            "|R2HQLKREFKG25D|          5|           21|         21|   N|                Y|\n",
            "| RWIL1XU6YM0U4|          5|           20|         20|   N|                N|\n",
            "|R28SB7Q1WBJRFM|          5|           25|         27|   N|                N|\n",
            "|R3PVKAWMZW55U8|          5|          106|        119|   N|                Y|\n",
            "|R21JS1HIQV1H7W|          3|           17|         22|   N|                Y|\n",
            "|R245IE9DATP3ZL|          3|           15|         23|   N|                Y|\n",
            "| RB1Y3RO4J4854|          3|           23|         30|   N|                Y|\n",
            "|R23P75H9VX5RLM|          5|           32|         36|   N|                Y|\n",
            "|R3JCH5P63TIQ4E|          5|           19|         20|   N|                N|\n",
            "| RYA7IZ8VHN5P8|          2|           37|         42|   N|                Y|\n",
            "| RE754WU5TGN9E|          5|           39|         44|   N|                Y|\n",
            "|  RVNRTIVFKBBI|          5|           23|         23|   N|                N|\n",
            "|R31X4TF63XSPKJ|          5|           30|         35|   N|                Y|\n",
            "| R5GHZAQ911CJV|          3|           41|         51|   N|                N|\n",
            "|R109YPQMPNG6J3|          5|           20|         22|   N|                Y|\n",
            "|R1KKWEQ84QFMAU|          5|           36|         41|   N|                N|\n",
            "|R25JYT9OOGCKRF|          5|          176|        202|   N|                Y|\n",
            "|R3MSUS8K98C44Q|          5|           34|         37|   N|                Y|\n",
            "|R2G06M6RQEP948|          3|           39|         40|   N|                Y|\n",
            "| RG5OVB55VNGVN|          2|           16|         20|   N|                Y|\n",
            "+--------------+-----------+-------------+-----------+----+-----------------+\n",
            "only showing top 20 rows\n",
            "\n"
          ],
          "name": "stdout"
        }
      ]
    },
    {
      "cell_type": "code",
      "metadata": {
        "colab": {
          "base_uri": "https://localhost:8080/"
        },
        "id": "9c7coB4MwyyY",
        "outputId": "eebd3b9e-f1f7-48ba-da51-dc3baee3b096"
      },
      "source": [
        "#Determine the total number of reviews\n",
        "total_reviews = vine_df.count()\n",
        "total_reviews\n"
      ],
      "execution_count": 11,
      "outputs": [
        {
          "output_type": "execute_result",
          "data": {
            "text/plain": [
              "12520722"
            ]
          },
          "metadata": {
            "tags": []
          },
          "execution_count": 11
        }
      ]
    },
    {
      "cell_type": "code",
      "metadata": {
        "colab": {
          "base_uri": "https://localhost:8080/"
        },
        "id": "fvzVSPxYArD3",
        "outputId": "e7590c27-3f9b-4334-ef19-8ffdd1a3621e"
      },
      "source": [
        "#Determine number of 5-star reviews\n",
        "total_fivestar_df = vine_df.filter(vine_df[\"star_rating\"]==5)\n",
        "# total_fivestar_df.show()\n",
        "fivestar_count = total_fivestar_df.count()\n",
        "fivestar_count"
      ],
      "execution_count": 35,
      "outputs": [
        {
          "output_type": "execute_result",
          "data": {
            "text/plain": [
              "7679679"
            ]
          },
          "metadata": {
            "tags": []
          },
          "execution_count": 35
        }
      ]
    },
    {
      "cell_type": "code",
      "metadata": {
        "colab": {
          "base_uri": "https://localhost:8080/"
        },
        "id": "XmzJwXI_H3Yr",
        "outputId": "d4944967-d8bb-49aa-8b96-db663253af33"
      },
      "source": [
        "#Determining number of PAID 5-star review\n",
        "total_paid_5star = total_fivestar_df.filter(total_fivestar_df['vine'] == 'Y')\n",
        "fivestar_paid = total_paid_5star.count()\n",
        "\n",
        "#Dividing number of PAID 5-star review by total # of 5 star reviews to get percentage of paid 5-star review\n",
        "percent_fivestar_pd = fivestar_paid / fivestar_count\n",
        "percent_fivestar_pd"
      ],
      "execution_count": 41,
      "outputs": [
        {
          "output_type": "execute_result",
          "data": {
            "text/plain": [
              "2.2136341896581875e-06"
            ]
          },
          "metadata": {
            "tags": []
          },
          "execution_count": 41
        }
      ]
    },
    {
      "cell_type": "code",
      "metadata": {
        "colab": {
          "base_uri": "https://localhost:8080/"
        },
        "id": "QTkouMdSMFWZ",
        "outputId": "e1fe83e2-0992-4206-cbcd-47291768c492"
      },
      "source": [
        "#Determining number of UNPAID 5-star reviews\n",
        "total_unpaid_fivestar = total_fivestar_df.filter(total_fivestar_df['vine']=='N')\n",
        "fivestar_unpaid = total_unpaid_fivestar.count()\n",
        "\n",
        "#Dividing # of UNPAID by total # of 5star reviews to get percentage of UNPAID reviews\n",
        "percent_fivestar_unpaid = fivestar_unpaid / fivestar_count\n",
        "percent_fivestar_unpaid"
      ],
      "execution_count": 42,
      "outputs": [
        {
          "output_type": "execute_result",
          "data": {
            "text/plain": [
              "0.9999977863658104"
            ]
          },
          "metadata": {
            "tags": []
          },
          "execution_count": 42
        }
      ]
    }
  ]
}